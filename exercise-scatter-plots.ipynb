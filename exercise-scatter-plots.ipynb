{
 "cells": [
  {
   "cell_type": "markdown",
   "id": "a750fe2f",
   "metadata": {
    "papermill": {
     "duration": 0.01083,
     "end_time": "2022-07-07T16:30:45.798945",
     "exception": false,
     "start_time": "2022-07-07T16:30:45.788115",
     "status": "completed"
    },
    "tags": []
   },
   "source": [
    "**This notebook is an exercise in the [Data Visualization](https://www.kaggle.com/learn/data-visualization) course.  You can reference the tutorial at [this link](https://www.kaggle.com/alexisbcook/scatter-plots).**\n",
    "\n",
    "---\n"
   ]
  },
  {
   "cell_type": "markdown",
   "id": "c90b871c",
   "metadata": {
    "papermill": {
     "duration": 0.009341,
     "end_time": "2022-07-07T16:30:45.818062",
     "exception": false,
     "start_time": "2022-07-07T16:30:45.808721",
     "status": "completed"
    },
    "tags": []
   },
   "source": [
    "In this exercise, you will use your new knowledge to propose a solution to a real-world scenario.  To succeed, you will need to import data into Python, answer questions using the data, and generate **scatter plots** to understand patterns in the data.\n",
    "\n",
    "## Scenario\n",
    "\n",
    "You work for a major candy producer, and your goal is to write a report that your company can use to guide the design of its next product.  Soon after starting your research, you stumble across this [very interesting dataset](https://fivethirtyeight.com/features/the-ultimate-halloween-candy-power-ranking/) containing results from a fun survey to crowdsource favorite candies.\n",
    "\n",
    "## Setup\n",
    "\n",
    "Run the next cell to import and configure the Python libraries that you need to complete the exercise."
   ]
  },
  {
   "cell_type": "code",
   "execution_count": 1,
   "id": "cbbba936",
   "metadata": {
    "execution": {
     "iopub.execute_input": "2022-07-07T16:30:45.839863Z",
     "iopub.status.busy": "2022-07-07T16:30:45.839341Z",
     "iopub.status.idle": "2022-07-07T16:30:47.047104Z",
     "shell.execute_reply": "2022-07-07T16:30:47.045718Z"
    },
    "papermill": {
     "duration": 1.222266,
     "end_time": "2022-07-07T16:30:47.050112",
     "exception": false,
     "start_time": "2022-07-07T16:30:45.827846",
     "status": "completed"
    },
    "tags": []
   },
   "outputs": [
    {
     "name": "stdout",
     "output_type": "stream",
     "text": [
      "Setup Complete\n"
     ]
    }
   ],
   "source": [
    "import pandas as pd\n",
    "pd.plotting.register_matplotlib_converters()\n",
    "import matplotlib.pyplot as plt\n",
    "%matplotlib inline\n",
    "import seaborn as sns\n",
    "print(\"Setup Complete\")"
   ]
  },
  {
   "cell_type": "markdown",
   "id": "67fcfbfa",
   "metadata": {
    "papermill": {
     "duration": 0.00971,
     "end_time": "2022-07-07T16:30:47.069696",
     "exception": false,
     "start_time": "2022-07-07T16:30:47.059986",
     "status": "completed"
    },
    "tags": []
   },
   "source": [
    "The questions below will give you feedback on your work. Run the following cell to set up our feedback system."
   ]
  },
  {
   "cell_type": "code",
   "execution_count": 2,
   "id": "c48772af",
   "metadata": {
    "execution": {
     "iopub.execute_input": "2022-07-07T16:30:47.090871Z",
     "iopub.status.busy": "2022-07-07T16:30:47.090481Z",
     "iopub.status.idle": "2022-07-07T16:30:47.169071Z",
     "shell.execute_reply": "2022-07-07T16:30:47.167448Z"
    },
    "papermill": {
     "duration": 0.093676,
     "end_time": "2022-07-07T16:30:47.173126",
     "exception": false,
     "start_time": "2022-07-07T16:30:47.079450",
     "status": "completed"
    },
    "tags": []
   },
   "outputs": [
    {
     "name": "stdout",
     "output_type": "stream",
     "text": [
      "Setup Complete\n"
     ]
    }
   ],
   "source": [
    "# Set up code checking\n",
    "import os\n",
    "if not os.path.exists(\"../input/candy.csv\"):\n",
    "    os.symlink(\"../input/data-for-datavis/candy.csv\", \"../input/candy.csv\") \n",
    "from learntools.core import binder\n",
    "binder.bind(globals())\n",
    "from learntools.data_viz_to_coder.ex4 import *\n",
    "print(\"Setup Complete\")"
   ]
  },
  {
   "cell_type": "markdown",
   "id": "df1e5649",
   "metadata": {
    "papermill": {
     "duration": 0.009612,
     "end_time": "2022-07-07T16:30:47.193061",
     "exception": false,
     "start_time": "2022-07-07T16:30:47.183449",
     "status": "completed"
    },
    "tags": []
   },
   "source": [
    "## Step 1: Load the Data\n",
    "\n",
    "Read the candy data file into `candy_data`.  Use the `\"id\"` column to label the rows."
   ]
  },
  {
   "cell_type": "code",
   "execution_count": 3,
   "id": "565755fd",
   "metadata": {
    "execution": {
     "iopub.execute_input": "2022-07-07T16:30:47.215063Z",
     "iopub.status.busy": "2022-07-07T16:30:47.214094Z",
     "iopub.status.idle": "2022-07-07T16:30:47.230247Z",
     "shell.execute_reply": "2022-07-07T16:30:47.229397Z"
    },
    "papermill": {
     "duration": 0.029377,
     "end_time": "2022-07-07T16:30:47.232523",
     "exception": false,
     "start_time": "2022-07-07T16:30:47.203146",
     "status": "completed"
    },
    "tags": []
   },
   "outputs": [
    {
     "data": {
      "application/javascript": [
       "parent.postMessage({\"jupyterEvent\": \"custom.exercise_interaction\", \"data\": {\"outcomeType\": 1, \"valueTowardsCompletion\": 0.3333333333333333, \"interactionType\": 1, \"questionType\": 1, \"questionId\": \"1_LoadData\", \"learnToolsVersion\": \"0.3.4\", \"failureMessage\": \"\", \"exceptionClass\": \"\", \"trace\": \"\"}}, \"*\")"
      ],
      "text/plain": [
       "<IPython.core.display.Javascript object>"
      ]
     },
     "metadata": {},
     "output_type": "display_data"
    },
    {
     "data": {
      "text/markdown": [
       "<span style=\"color:#33cc33\">Correct</span>"
      ],
      "text/plain": [
       "Correct"
      ]
     },
     "metadata": {},
     "output_type": "display_data"
    }
   ],
   "source": [
    "# Path of the file to read\n",
    "candy_filepath = \"../input/candy.csv\"\n",
    "\n",
    "# Fill in the line below to read the file into a variable candy_data\n",
    "candy_data =pd.read_csv(candy_filepath,index_col=['id'])\n",
    "\n",
    "# Run the line below with no changes to check that you've loaded the data correctly\n",
    "step_1.check()"
   ]
  },
  {
   "cell_type": "code",
   "execution_count": 4,
   "id": "f76edb3f",
   "metadata": {
    "execution": {
     "iopub.execute_input": "2022-07-07T16:30:47.254733Z",
     "iopub.status.busy": "2022-07-07T16:30:47.254280Z",
     "iopub.status.idle": "2022-07-07T16:30:47.258225Z",
     "shell.execute_reply": "2022-07-07T16:30:47.257392Z"
    },
    "papermill": {
     "duration": 0.017718,
     "end_time": "2022-07-07T16:30:47.260352",
     "exception": false,
     "start_time": "2022-07-07T16:30:47.242634",
     "status": "completed"
    },
    "tags": []
   },
   "outputs": [],
   "source": [
    "# Lines below will give you a hint or solution code\n",
    "#step_1.hint()\n",
    "#step_1.solution()"
   ]
  },
  {
   "cell_type": "markdown",
   "id": "bee842ab",
   "metadata": {
    "papermill": {
     "duration": 0.009913,
     "end_time": "2022-07-07T16:30:47.281177",
     "exception": false,
     "start_time": "2022-07-07T16:30:47.271264",
     "status": "completed"
    },
    "tags": []
   },
   "source": [
    "## Step 2: Review the data\n",
    "\n",
    "Use a Python command to print the first five rows of the data."
   ]
  },
  {
   "cell_type": "code",
   "execution_count": 5,
   "id": "921f937d",
   "metadata": {
    "execution": {
     "iopub.execute_input": "2022-07-07T16:30:47.304721Z",
     "iopub.status.busy": "2022-07-07T16:30:47.303463Z",
     "iopub.status.idle": "2022-07-07T16:30:47.327925Z",
     "shell.execute_reply": "2022-07-07T16:30:47.326786Z"
    },
    "papermill": {
     "duration": 0.038735,
     "end_time": "2022-07-07T16:30:47.330270",
     "exception": false,
     "start_time": "2022-07-07T16:30:47.291535",
     "status": "completed"
    },
    "tags": []
   },
   "outputs": [
    {
     "data": {
      "text/html": [
       "<div>\n",
       "<style scoped>\n",
       "    .dataframe tbody tr th:only-of-type {\n",
       "        vertical-align: middle;\n",
       "    }\n",
       "\n",
       "    .dataframe tbody tr th {\n",
       "        vertical-align: top;\n",
       "    }\n",
       "\n",
       "    .dataframe thead th {\n",
       "        text-align: right;\n",
       "    }\n",
       "</style>\n",
       "<table border=\"1\" class=\"dataframe\">\n",
       "  <thead>\n",
       "    <tr style=\"text-align: right;\">\n",
       "      <th></th>\n",
       "      <th>competitorname</th>\n",
       "      <th>chocolate</th>\n",
       "      <th>fruity</th>\n",
       "      <th>caramel</th>\n",
       "      <th>peanutyalmondy</th>\n",
       "      <th>nougat</th>\n",
       "      <th>crispedricewafer</th>\n",
       "      <th>hard</th>\n",
       "      <th>bar</th>\n",
       "      <th>pluribus</th>\n",
       "      <th>sugarpercent</th>\n",
       "      <th>pricepercent</th>\n",
       "      <th>winpercent</th>\n",
       "    </tr>\n",
       "    <tr>\n",
       "      <th>id</th>\n",
       "      <th></th>\n",
       "      <th></th>\n",
       "      <th></th>\n",
       "      <th></th>\n",
       "      <th></th>\n",
       "      <th></th>\n",
       "      <th></th>\n",
       "      <th></th>\n",
       "      <th></th>\n",
       "      <th></th>\n",
       "      <th></th>\n",
       "      <th></th>\n",
       "      <th></th>\n",
       "    </tr>\n",
       "  </thead>\n",
       "  <tbody>\n",
       "    <tr>\n",
       "      <th>0</th>\n",
       "      <td>100 Grand</td>\n",
       "      <td>Yes</td>\n",
       "      <td>No</td>\n",
       "      <td>Yes</td>\n",
       "      <td>No</td>\n",
       "      <td>No</td>\n",
       "      <td>Yes</td>\n",
       "      <td>No</td>\n",
       "      <td>Yes</td>\n",
       "      <td>No</td>\n",
       "      <td>0.732</td>\n",
       "      <td>0.860</td>\n",
       "      <td>66.971725</td>\n",
       "    </tr>\n",
       "    <tr>\n",
       "      <th>1</th>\n",
       "      <td>3 Musketeers</td>\n",
       "      <td>Yes</td>\n",
       "      <td>No</td>\n",
       "      <td>No</td>\n",
       "      <td>No</td>\n",
       "      <td>Yes</td>\n",
       "      <td>No</td>\n",
       "      <td>No</td>\n",
       "      <td>Yes</td>\n",
       "      <td>No</td>\n",
       "      <td>0.604</td>\n",
       "      <td>0.511</td>\n",
       "      <td>67.602936</td>\n",
       "    </tr>\n",
       "    <tr>\n",
       "      <th>2</th>\n",
       "      <td>Air Heads</td>\n",
       "      <td>No</td>\n",
       "      <td>Yes</td>\n",
       "      <td>No</td>\n",
       "      <td>No</td>\n",
       "      <td>No</td>\n",
       "      <td>No</td>\n",
       "      <td>No</td>\n",
       "      <td>No</td>\n",
       "      <td>No</td>\n",
       "      <td>0.906</td>\n",
       "      <td>0.511</td>\n",
       "      <td>52.341465</td>\n",
       "    </tr>\n",
       "    <tr>\n",
       "      <th>3</th>\n",
       "      <td>Almond Joy</td>\n",
       "      <td>Yes</td>\n",
       "      <td>No</td>\n",
       "      <td>No</td>\n",
       "      <td>Yes</td>\n",
       "      <td>No</td>\n",
       "      <td>No</td>\n",
       "      <td>No</td>\n",
       "      <td>Yes</td>\n",
       "      <td>No</td>\n",
       "      <td>0.465</td>\n",
       "      <td>0.767</td>\n",
       "      <td>50.347546</td>\n",
       "    </tr>\n",
       "    <tr>\n",
       "      <th>4</th>\n",
       "      <td>Baby Ruth</td>\n",
       "      <td>Yes</td>\n",
       "      <td>No</td>\n",
       "      <td>Yes</td>\n",
       "      <td>Yes</td>\n",
       "      <td>Yes</td>\n",
       "      <td>No</td>\n",
       "      <td>No</td>\n",
       "      <td>Yes</td>\n",
       "      <td>No</td>\n",
       "      <td>0.604</td>\n",
       "      <td>0.767</td>\n",
       "      <td>56.914547</td>\n",
       "    </tr>\n",
       "  </tbody>\n",
       "</table>\n",
       "</div>"
      ],
      "text/plain": [
       "   competitorname chocolate fruity caramel peanutyalmondy nougat  \\\n",
       "id                                                                 \n",
       "0       100 Grand       Yes     No     Yes             No     No   \n",
       "1    3 Musketeers       Yes     No      No             No    Yes   \n",
       "2       Air Heads        No    Yes      No             No     No   \n",
       "3      Almond Joy       Yes     No      No            Yes     No   \n",
       "4       Baby Ruth       Yes     No     Yes            Yes    Yes   \n",
       "\n",
       "   crispedricewafer hard  bar pluribus  sugarpercent  pricepercent  winpercent  \n",
       "id                                                                              \n",
       "0               Yes   No  Yes       No         0.732         0.860   66.971725  \n",
       "1                No   No  Yes       No         0.604         0.511   67.602936  \n",
       "2                No   No   No       No         0.906         0.511   52.341465  \n",
       "3                No   No  Yes       No         0.465         0.767   50.347546  \n",
       "4                No   No  Yes       No         0.604         0.767   56.914547  "
      ]
     },
     "execution_count": 5,
     "metadata": {},
     "output_type": "execute_result"
    }
   ],
   "source": [
    "candy_data.head()"
   ]
  },
  {
   "cell_type": "markdown",
   "id": "9b90e30f",
   "metadata": {
    "papermill": {
     "duration": 0.010206,
     "end_time": "2022-07-07T16:30:47.351078",
     "exception": false,
     "start_time": "2022-07-07T16:30:47.340872",
     "status": "completed"
    },
    "tags": []
   },
   "source": [
    "The dataset contains 83 rows, where each corresponds to a different candy bar.  There are 13 columns:\n",
    "- `'competitorname'` contains the name of the candy bar. \n",
    "- the next **9** columns (from `'chocolate'` to `'pluribus'`) describe the candy.  For instance, rows with chocolate candies have `\"Yes\"` in the `'chocolate'` column (and candies without chocolate have `\"No\"` in the same column).\n",
    "- `'sugarpercent'` provides some indication of the amount of sugar, where higher values signify higher sugar content.\n",
    "- `'pricepercent'` shows the price per unit, relative to the other candies in the dataset.\n",
    "- `'winpercent'` is calculated from the survey results; higher values indicate that the candy was more popular with survey respondents.\n",
    "\n",
    "Use the first five rows of the data to answer the questions below."
   ]
  },
  {
   "cell_type": "code",
   "execution_count": 6,
   "id": "1a29e6f6",
   "metadata": {
    "execution": {
     "iopub.execute_input": "2022-07-07T16:30:47.374114Z",
     "iopub.status.busy": "2022-07-07T16:30:47.373316Z",
     "iopub.status.idle": "2022-07-07T16:30:47.381849Z",
     "shell.execute_reply": "2022-07-07T16:30:47.381002Z"
    },
    "papermill": {
     "duration": 0.022357,
     "end_time": "2022-07-07T16:30:47.383903",
     "exception": false,
     "start_time": "2022-07-07T16:30:47.361546",
     "status": "completed"
    },
    "tags": []
   },
   "outputs": [
    {
     "data": {
      "application/javascript": [
       "parent.postMessage({\"jupyterEvent\": \"custom.exercise_interaction\", \"data\": {\"outcomeType\": 1, \"valueTowardsCompletion\": 0.3333333333333333, \"interactionType\": 1, \"questionType\": 1, \"questionId\": \"2_ReviewData\", \"learnToolsVersion\": \"0.3.4\", \"failureMessage\": \"\", \"exceptionClass\": \"\", \"trace\": \"\"}}, \"*\")"
      ],
      "text/plain": [
       "<IPython.core.display.Javascript object>"
      ]
     },
     "metadata": {},
     "output_type": "display_data"
    },
    {
     "data": {
      "text/markdown": [
       "<span style=\"color:#33cc33\">Correct</span>"
      ],
      "text/plain": [
       "Correct"
      ]
     },
     "metadata": {},
     "output_type": "display_data"
    }
   ],
   "source": [
    "# Fill in the line below: Which candy was more popular with survey respondents:\n",
    "# '3 Musketeers' or 'Almond Joy'?  (Please enclose your answer in single quotes.)\n",
    "more_popular = '3 Musketeers'\n",
    "\n",
    "# Fill in the line below: Which candy has higher sugar content: 'Air Heads'\n",
    "# or 'Baby Ruth'? (Please enclose your answer in single quotes.)\n",
    "more_sugar = 'Air Heads'\n",
    "\n",
    "# Check your answers\n",
    "step_2.check()"
   ]
  },
  {
   "cell_type": "code",
   "execution_count": null,
   "id": "0074de77",
   "metadata": {
    "execution": {
     "iopub.execute_input": "2022-07-07T16:19:24.350376Z",
     "iopub.status.busy": "2022-07-07T16:19:24.349800Z",
     "iopub.status.idle": "2022-07-07T16:19:24.377457Z",
     "shell.execute_reply": "2022-07-07T16:19:24.376652Z",
     "shell.execute_reply.started": "2022-07-07T16:19:24.350329Z"
    },
    "papermill": {
     "duration": 0.010262,
     "end_time": "2022-07-07T16:30:47.404929",
     "exception": false,
     "start_time": "2022-07-07T16:30:47.394667",
     "status": "completed"
    },
    "tags": []
   },
   "outputs": [],
   "source": []
  },
  {
   "cell_type": "code",
   "execution_count": 7,
   "id": "5702c91f",
   "metadata": {
    "execution": {
     "iopub.execute_input": "2022-07-07T16:30:47.428572Z",
     "iopub.status.busy": "2022-07-07T16:30:47.427838Z",
     "iopub.status.idle": "2022-07-07T16:30:47.432001Z",
     "shell.execute_reply": "2022-07-07T16:30:47.430821Z"
    },
    "papermill": {
     "duration": 0.018774,
     "end_time": "2022-07-07T16:30:47.434508",
     "exception": false,
     "start_time": "2022-07-07T16:30:47.415734",
     "status": "completed"
    },
    "tags": []
   },
   "outputs": [],
   "source": [
    "# Lines below will give you a hint or solution code\n",
    "#step_2.hint()\n",
    "#step_2.solution()"
   ]
  },
  {
   "cell_type": "markdown",
   "id": "182d25b1",
   "metadata": {
    "papermill": {
     "duration": 0.010484,
     "end_time": "2022-07-07T16:30:47.456355",
     "exception": false,
     "start_time": "2022-07-07T16:30:47.445871",
     "status": "completed"
    },
    "tags": []
   },
   "source": [
    "## Step 3: The role of sugar\n",
    "\n",
    "Do people tend to prefer candies with higher sugar content?  \n",
    "\n",
    "#### Part A\n",
    "\n",
    "Create a scatter plot that shows the relationship between `'sugarpercent'` (on the horizontal x-axis) and `'winpercent'` (on the vertical y-axis).  _Don't add a regression line just yet -- you'll do that in the next step!_"
   ]
  },
  {
   "cell_type": "code",
   "execution_count": 8,
   "id": "48243346",
   "metadata": {
    "execution": {
     "iopub.execute_input": "2022-07-07T16:30:47.479700Z",
     "iopub.status.busy": "2022-07-07T16:30:47.479265Z",
     "iopub.status.idle": "2022-07-07T16:30:47.720004Z",
     "shell.execute_reply": "2022-07-07T16:30:47.718847Z"
    },
    "papermill": {
     "duration": 0.25525,
     "end_time": "2022-07-07T16:30:47.722425",
     "exception": false,
     "start_time": "2022-07-07T16:30:47.467175",
     "status": "completed"
    },
    "tags": []
   },
   "outputs": [
    {
     "data": {
      "application/javascript": [
       "parent.postMessage({\"jupyterEvent\": \"custom.exercise_interaction\", \"data\": {\"outcomeType\": 1, \"valueTowardsCompletion\": 0.3333333333333333, \"interactionType\": 1, \"questionType\": 2, \"questionId\": \"3.1_PlotBlueScatter\", \"learnToolsVersion\": \"0.3.4\", \"failureMessage\": \"\", \"exceptionClass\": \"\", \"trace\": \"\"}}, \"*\")"
      ],
      "text/plain": [
       "<IPython.core.display.Javascript object>"
      ]
     },
     "metadata": {},
     "output_type": "display_data"
    },
    {
     "data": {
      "text/markdown": [
       "<span style=\"color:#33cc33\">Correct</span>"
      ],
      "text/plain": [
       "Correct"
      ]
     },
     "metadata": {},
     "output_type": "display_data"
    },
    {
     "data": {
      "image/png": "[encoded data removed]",
      "text/plain": [
       "<Figure size 432x288 with 1 Axes>"
      ]
     },
     "metadata": {
      "needs_background": "light"
     },
     "output_type": "display_data"
    }
   ],
   "source": [
    "# Scatter plot showing the relationship between 'sugarpercent' and 'winpercent'\n",
    "sns.scatterplot(x=candy_data['sugarpercent'], y=candy_data['winpercent'])\n",
    "\n",
    "# Check your answer\n",
    "step_3.a.check()"
   ]
  },
  {
   "cell_type": "code",
   "execution_count": 9,
   "id": "484a0443",
   "metadata": {
    "execution": {
     "iopub.execute_input": "2022-07-07T16:30:47.747340Z",
     "iopub.status.busy": "2022-07-07T16:30:47.746943Z",
     "iopub.status.idle": "2022-07-07T16:30:47.751211Z",
     "shell.execute_reply": "2022-07-07T16:30:47.750112Z"
    },
    "papermill": {
     "duration": 0.019445,
     "end_time": "2022-07-07T16:30:47.753352",
     "exception": false,
     "start_time": "2022-07-07T16:30:47.733907",
     "status": "completed"
    },
    "tags": []
   },
   "outputs": [],
   "source": [
    "# Lines below will give you a hint or solution code\n",
    "#step_3.a.hint()\n",
    "#step_3.a.solution_plot()"
   ]
  },
  {
   "cell_type": "markdown",
   "id": "407f3bbb",
   "metadata": {
    "papermill": {
     "duration": 0.011507,
     "end_time": "2022-07-07T16:30:47.776312",
     "exception": false,
     "start_time": "2022-07-07T16:30:47.764805",
     "status": "completed"
    },
    "tags": []
   },
   "source": [
    "#### Part B\n",
    "\n",
    "Does the scatter plot show a **strong** correlation between the two variables?  If so, are candies with more sugar relatively more or less popular with the survey respondents?"
   ]
  },
  {
   "cell_type": "code",
   "execution_count": 10,
   "id": "d3bb4f20",
   "metadata": {
    "execution": {
     "iopub.execute_input": "2022-07-07T16:30:47.801949Z",
     "iopub.status.busy": "2022-07-07T16:30:47.801026Z",
     "iopub.status.idle": "2022-07-07T16:30:47.806297Z",
     "shell.execute_reply": "2022-07-07T16:30:47.805492Z"
    },
    "papermill": {
     "duration": 0.020908,
     "end_time": "2022-07-07T16:30:47.808699",
     "exception": false,
     "start_time": "2022-07-07T16:30:47.787791",
     "status": "completed"
    },
    "tags": []
   },
   "outputs": [],
   "source": [
    "#step_3.b.hint()"
   ]
  },
  {
   "cell_type": "code",
   "execution_count": 11,
   "id": "88ca8879",
   "metadata": {
    "execution": {
     "iopub.execute_input": "2022-07-07T16:30:47.833719Z",
     "iopub.status.busy": "2022-07-07T16:30:47.832946Z",
     "iopub.status.idle": "2022-07-07T16:30:47.842267Z",
     "shell.execute_reply": "2022-07-07T16:30:47.841436Z"
    },
    "papermill": {
     "duration": 0.02445,
     "end_time": "2022-07-07T16:30:47.844524",
     "exception": false,
     "start_time": "2022-07-07T16:30:47.820074",
     "status": "completed"
    },
    "tags": []
   },
   "outputs": [
    {
     "data": {
      "application/javascript": [
       "parent.postMessage({\"jupyterEvent\": \"custom.exercise_interaction\", \"data\": {\"interactionType\": 3, \"questionType\": 4, \"questionId\": \"3.2_ThinkBlueScatter\", \"learnToolsVersion\": \"0.3.4\", \"valueTowardsCompletion\": 0.0, \"failureMessage\": \"\", \"exceptionClass\": \"\", \"trace\": \"\", \"outcomeType\": 4}}, \"*\")"
      ],
      "text/plain": [
       "<IPython.core.display.Javascript object>"
      ]
     },
     "metadata": {},
     "output_type": "display_data"
    },
    {
     "data": {
      "text/markdown": [
       "<span style=\"color:#33cc99\">Solution:</span> The scatter plot does not show a strong correlation between the two variables. Since there is no clear relationship between the two variables, this tells us that sugar content does not play a strong role in candy popularity."
      ],
      "text/plain": [
       "Solution: The scatter plot does not show a strong correlation between the two variables. Since there is no clear relationship between the two variables, this tells us that sugar content does not play a strong role in candy popularity."
      ]
     },
     "metadata": {},
     "output_type": "display_data"
    }
   ],
   "source": [
    "# Check your answer (Run this code cell to receive credit!)\n",
    "step_3.b.solution()"
   ]
  },
  {
   "cell_type": "markdown",
   "id": "2de46150",
   "metadata": {
    "papermill": {
     "duration": 0.011325,
     "end_time": "2022-07-07T16:30:47.867406",
     "exception": false,
     "start_time": "2022-07-07T16:30:47.856081",
     "status": "completed"
    },
    "tags": []
   },
   "source": [
    "## Step 4: Take a closer look\n",
    "\n",
    "#### Part A\n",
    "\n",
    "Create the same scatter plot you created in **Step 3**, but now with a regression line!"
   ]
  },
  {
   "cell_type": "code",
   "execution_count": 12,
   "id": "b3de572e",
   "metadata": {
    "execution": {
     "iopub.execute_input": "2022-07-07T16:30:47.893605Z",
     "iopub.status.busy": "2022-07-07T16:30:47.893104Z",
     "iopub.status.idle": "2022-07-07T16:30:48.152152Z",
     "shell.execute_reply": "2022-07-07T16:30:48.151195Z"
    },
    "papermill": {
     "duration": 0.274741,
     "end_time": "2022-07-07T16:30:48.154625",
     "exception": false,
     "start_time": "2022-07-07T16:30:47.879884",
     "status": "completed"
    },
    "tags": []
   },
   "outputs": [
    {
     "data": {
      "application/javascript": [
       "parent.postMessage({\"jupyterEvent\": \"custom.exercise_interaction\", \"data\": {\"outcomeType\": 1, \"valueTowardsCompletion\": 0.3333333333333333, \"interactionType\": 1, \"questionType\": 2, \"questionId\": \"4.1_PlotBlueReg\", \"learnToolsVersion\": \"0.3.4\", \"failureMessage\": \"\", \"exceptionClass\": \"\", \"trace\": \"\"}}, \"*\")"
      ],
      "text/plain": [
       "<IPython.core.display.Javascript object>"
      ]
     },
     "metadata": {},
     "output_type": "display_data"
    },
    {
     "data": {
      "text/markdown": [
       "<span style=\"color:#33cc33\">Correct</span>"
      ],
      "text/plain": [
       "Correct"
      ]
     },
     "metadata": {},
     "output_type": "display_data"
    },
    {
     "data": {
      "image/png": "[encoded data removed]",
      "text/plain": [
       "<Figure size 432x288 with 1 Axes>"
      ]
     },
     "metadata": {
      "needs_background": "light"
     },
     "output_type": "display_data"
    }
   ],
   "source": [
    "sns.regplot(x=candy_data['sugarpercent'], y=candy_data['winpercent'])\n",
    "# Check your answer\n",
    "step_4.a.check()"
   ]
  },
  {
   "cell_type": "code",
   "execution_count": 13,
   "id": "83d12314",
   "metadata": {
    "execution": {
     "iopub.execute_input": "2022-07-07T16:30:48.182122Z",
     "iopub.status.busy": "2022-07-07T16:30:48.180942Z",
     "iopub.status.idle": "2022-07-07T16:30:48.186578Z",
     "shell.execute_reply": "2022-07-07T16:30:48.185363Z"
    },
    "papermill": {
     "duration": 0.021632,
     "end_time": "2022-07-07T16:30:48.188863",
     "exception": false,
     "start_time": "2022-07-07T16:30:48.167231",
     "status": "completed"
    },
    "tags": []
   },
   "outputs": [],
   "source": [
    "# Lines below will give you a hint or solution code\n",
    "#step_4.a.hint()\n",
    "#step_4.a.solution_plot()"
   ]
  },
  {
   "cell_type": "markdown",
   "id": "e28af4ed",
   "metadata": {
    "papermill": {
     "duration": 0.012039,
     "end_time": "2022-07-07T16:30:48.213189",
     "exception": false,
     "start_time": "2022-07-07T16:30:48.201150",
     "status": "completed"
    },
    "tags": []
   },
   "source": [
    "#### Part B\n",
    "\n",
    "According to the plot above, is there a **slight** correlation between `'winpercent'` and `'sugarpercent'`?  What does this tell you about the candy that people tend to prefer?"
   ]
  },
  {
   "cell_type": "code",
   "execution_count": 14,
   "id": "4169949a",
   "metadata": {
    "execution": {
     "iopub.execute_input": "2022-07-07T16:30:48.239665Z",
     "iopub.status.busy": "2022-07-07T16:30:48.239240Z",
     "iopub.status.idle": "2022-07-07T16:30:48.243447Z",
     "shell.execute_reply": "2022-07-07T16:30:48.242645Z"
    },
    "papermill": {
     "duration": 0.019873,
     "end_time": "2022-07-07T16:30:48.245508",
     "exception": false,
     "start_time": "2022-07-07T16:30:48.225635",
     "status": "completed"
    },
    "tags": []
   },
   "outputs": [],
   "source": [
    "#step_4.b.hint()"
   ]
  },
  {
   "cell_type": "code",
   "execution_count": 15,
   "id": "e22beeef",
   "metadata": {
    "execution": {
     "iopub.execute_input": "2022-07-07T16:30:48.272896Z",
     "iopub.status.busy": "2022-07-07T16:30:48.271848Z",
     "iopub.status.idle": "2022-07-07T16:30:48.281049Z",
     "shell.execute_reply": "2022-07-07T16:30:48.280296Z"
    },
    "papermill": {
     "duration": 0.024821,
     "end_time": "2022-07-07T16:30:48.282945",
     "exception": false,
     "start_time": "2022-07-07T16:30:48.258124",
     "status": "completed"
    },
    "tags": []
   },
   "outputs": [
    {
     "data": {
      "application/javascript": [
       "parent.postMessage({\"jupyterEvent\": \"custom.exercise_interaction\", \"data\": {\"interactionType\": 3, \"questionType\": 4, \"questionId\": \"4.2_ThinkBlueReg\", \"learnToolsVersion\": \"0.3.4\", \"valueTowardsCompletion\": 0.0, \"failureMessage\": \"\", \"exceptionClass\": \"\", \"trace\": \"\", \"outcomeType\": 4}}, \"*\")"
      ],
      "text/plain": [
       "<IPython.core.display.Javascript object>"
      ]
     },
     "metadata": {},
     "output_type": "display_data"
    },
    {
     "data": {
      "text/markdown": [
       "<span style=\"color:#33cc99\">Solution:</span> Since the regression line has a slightly positive slope, this tells us that there is a slightly positive correlation between `'winpercent'` and `'sugarpercent'`. Thus, people have a slight preference for candies containing relatively more sugar."
      ],
      "text/plain": [
       "Solution: Since the regression line has a slightly positive slope, this tells us that there is a slightly positive correlation between `'winpercent'` and `'sugarpercent'`. Thus, people have a slight preference for candies containing relatively more sugar."
      ]
     },
     "metadata": {},
     "output_type": "display_data"
    }
   ],
   "source": [
    "# Check your answer (Run this code cell to receive credit!)\n",
    "step_4.b.solution()"
   ]
  },
  {
   "cell_type": "markdown",
   "id": "d4e3367e",
   "metadata": {
    "papermill": {
     "duration": 0.01235,
     "end_time": "2022-07-07T16:30:48.308001",
     "exception": false,
     "start_time": "2022-07-07T16:30:48.295651",
     "status": "completed"
    },
    "tags": []
   },
   "source": [
    "## Step 5: Chocolate!\n",
    "\n",
    "In the code cell below, create a scatter plot to show the relationship between `'pricepercent'` (on the horizontal x-axis) and `'winpercent'` (on the vertical y-axis). Use the `'chocolate'` column to color-code the points.  _Don't add any regression lines just yet -- you'll do that in the next step!_"
   ]
  },
  {
   "cell_type": "code",
   "execution_count": 16,
   "id": "d36504b6",
   "metadata": {
    "execution": {
     "iopub.execute_input": "2022-07-07T16:30:48.335898Z",
     "iopub.status.busy": "2022-07-07T16:30:48.334947Z",
     "iopub.status.idle": "2022-07-07T16:30:48.597324Z",
     "shell.execute_reply": "2022-07-07T16:30:48.596390Z"
    },
    "papermill": {
     "duration": 0.278803,
     "end_time": "2022-07-07T16:30:48.599670",
     "exception": false,
     "start_time": "2022-07-07T16:30:48.320867",
     "status": "completed"
    },
    "tags": []
   },
   "outputs": [
    {
     "data": {
      "application/javascript": [
       "parent.postMessage({\"jupyterEvent\": \"custom.exercise_interaction\", \"data\": {\"outcomeType\": 1, \"valueTowardsCompletion\": 0.3333333333333333, \"interactionType\": 1, \"questionType\": 2, \"questionId\": \"5_ColorScatter\", \"learnToolsVersion\": \"0.3.4\", \"failureMessage\": \"\", \"exceptionClass\": \"\", \"trace\": \"\"}}, \"*\")"
      ],
      "text/plain": [
       "<IPython.core.display.Javascript object>"
      ]
     },
     "metadata": {},
     "output_type": "display_data"
    },
    {
     "data": {
      "text/markdown": [
       "<span style=\"color:#33cc33\">Correct</span>"
      ],
      "text/plain": [
       "Correct"
      ]
     },
     "metadata": {},
     "output_type": "display_data"
    },
    {
     "data": {
      "image/png": "[encoded data removed]",
      "text/plain": [
       "<Figure size 432x288 with 1 Axes>"
      ]
     },
     "metadata": {
      "needs_background": "light"
     },
     "output_type": "display_data"
    }
   ],
   "source": [
    "# Scatter plot showing the relationship between 'pricepercent', 'winpercent', and 'chocolate'\n",
    "sns.scatterplot(x=candy_data['sugarpercent'], y=candy_data['winpercent'],hue=candy_data['chocolate'])\n",
    "# Check your answer\n",
    "step_5.check()"
   ]
  },
  {
   "cell_type": "code",
   "execution_count": 17,
   "id": "3613d8b5",
   "metadata": {
    "execution": {
     "iopub.execute_input": "2022-07-07T16:30:48.629614Z",
     "iopub.status.busy": "2022-07-07T16:30:48.628854Z",
     "iopub.status.idle": "2022-07-07T16:30:48.632789Z",
     "shell.execute_reply": "2022-07-07T16:30:48.631958Z"
    },
    "papermill": {
     "duration": 0.021741,
     "end_time": "2022-07-07T16:30:48.635192",
     "exception": false,
     "start_time": "2022-07-07T16:30:48.613451",
     "status": "completed"
    },
    "tags": []
   },
   "outputs": [],
   "source": [
    "# Lines below will give you a hint or solution code\n",
    "#step_5.hint()\n",
    "#step_5.solution_plot()"
   ]
  },
  {
   "cell_type": "markdown",
   "id": "71267e7a",
   "metadata": {
    "papermill": {
     "duration": 0.014176,
     "end_time": "2022-07-07T16:30:48.663028",
     "exception": false,
     "start_time": "2022-07-07T16:30:48.648852",
     "status": "completed"
    },
    "tags": []
   },
   "source": [
    "Can you see any interesting patterns in the scatter plot?  We'll investigate this plot further  by adding regression lines in the next step!\n",
    "\n",
    "## Step 6: Investigate chocolate\n",
    "\n",
    "#### Part A\n",
    "\n",
    "Create the same scatter plot you created in **Step 5**, but now with two regression lines, corresponding to (1) chocolate candies and (2) candies without chocolate."
   ]
  },
  {
   "cell_type": "code",
   "execution_count": 18,
   "id": "d118f060",
   "metadata": {
    "execution": {
     "iopub.execute_input": "2022-07-07T16:30:48.692577Z",
     "iopub.status.busy": "2022-07-07T16:30:48.691834Z",
     "iopub.status.idle": "2022-07-07T16:30:49.317178Z",
     "shell.execute_reply": "2022-07-07T16:30:49.315842Z"
    },
    "papermill": {
     "duration": 0.643046,
     "end_time": "2022-07-07T16:30:49.319860",
     "exception": false,
     "start_time": "2022-07-07T16:30:48.676814",
     "status": "completed"
    },
    "tags": []
   },
   "outputs": [
    {
     "data": {
      "application/javascript": [
       "parent.postMessage({\"jupyterEvent\": \"custom.exercise_interaction\", \"data\": {\"outcomeType\": 1, \"valueTowardsCompletion\": 0.3333333333333333, \"interactionType\": 1, \"questionType\": 2, \"questionId\": \"6.1_PlotColorReg\", \"learnToolsVersion\": \"0.3.4\", \"failureMessage\": \"\", \"exceptionClass\": \"\", \"trace\": \"\"}}, \"*\")"
      ],
      "text/plain": [
       "<IPython.core.display.Javascript object>"
      ]
     },
     "metadata": {},
     "output_type": "display_data"
    },
    {
     "data": {
      "text/markdown": [
       "<span style=\"color:#33cc33\">Correct</span>"
      ],
      "text/plain": [
       "Correct"
      ]
     },
     "metadata": {},
     "output_type": "display_data"
    },
    {
     "data": {
      "image/png": "[encoded data removed]",
      "text/plain": [
       "<Figure size 416.375x360 with 1 Axes>"
      ]
     },
     "metadata": {
      "needs_background": "light"
     },
     "output_type": "display_data"
    }
   ],
   "source": [
    "# Color-coded scatter plot w/ regression lines\n",
    "sns.lmplot(x=\"sugarpercent\", y=\"winpercent\", hue=\"chocolate\", data=candy_data)\n",
    "\n",
    "# Check your answer\n",
    "step_6.a.check()"
   ]
  },
  {
   "cell_type": "code",
   "execution_count": 19,
   "id": "adb1bdd2",
   "metadata": {
    "execution": {
     "iopub.execute_input": "2022-07-07T16:30:49.351152Z",
     "iopub.status.busy": "2022-07-07T16:30:49.350725Z",
     "iopub.status.idle": "2022-07-07T16:30:49.355336Z",
     "shell.execute_reply": "2022-07-07T16:30:49.354211Z"
    },
    "papermill": {
     "duration": 0.023275,
     "end_time": "2022-07-07T16:30:49.357789",
     "exception": false,
     "start_time": "2022-07-07T16:30:49.334514",
     "status": "completed"
    },
    "tags": []
   },
   "outputs": [],
   "source": [
    "# Lines below will give you a hint or solution code\n",
    "#step_6.a.hint()\n",
    "#step_6.a.solution_plot()"
   ]
  },
  {
   "cell_type": "markdown",
   "id": "f27b170a",
   "metadata": {
    "papermill": {
     "duration": 0.013872,
     "end_time": "2022-07-07T16:30:49.385919",
     "exception": false,
     "start_time": "2022-07-07T16:30:49.372047",
     "status": "completed"
    },
    "tags": []
   },
   "source": [
    "#### Part B\n",
    "\n",
    "Using the regression lines, what conclusions can you draw about the effects of chocolate and price on candy popularity?"
   ]
  },
  {
   "cell_type": "code",
   "execution_count": 20,
   "id": "5e8d944a",
   "metadata": {
    "execution": {
     "iopub.execute_input": "2022-07-07T16:30:49.417022Z",
     "iopub.status.busy": "2022-07-07T16:30:49.416253Z",
     "iopub.status.idle": "2022-07-07T16:30:49.420183Z",
     "shell.execute_reply": "2022-07-07T16:30:49.419397Z"
    },
    "papermill": {
     "duration": 0.022195,
     "end_time": "2022-07-07T16:30:49.422500",
     "exception": false,
     "start_time": "2022-07-07T16:30:49.400305",
     "status": "completed"
    },
    "tags": []
   },
   "outputs": [],
   "source": [
    "#step_6.b.hint()"
   ]
  },
  {
   "cell_type": "code",
   "execution_count": 21,
   "id": "a89b0ba6",
   "metadata": {
    "execution": {
     "iopub.execute_input": "2022-07-07T16:30:49.453726Z",
     "iopub.status.busy": "2022-07-07T16:30:49.452882Z",
     "iopub.status.idle": "2022-07-07T16:30:49.461945Z",
     "shell.execute_reply": "2022-07-07T16:30:49.460789Z"
    },
    "papermill": {
     "duration": 0.027638,
     "end_time": "2022-07-07T16:30:49.464452",
     "exception": false,
     "start_time": "2022-07-07T16:30:49.436814",
     "status": "completed"
    },
    "tags": []
   },
   "outputs": [
    {
     "data": {
      "application/javascript": [
       "parent.postMessage({\"jupyterEvent\": \"custom.exercise_interaction\", \"data\": {\"interactionType\": 3, \"questionType\": 4, \"questionId\": \"6.2_ThinkColorReg\", \"learnToolsVersion\": \"0.3.4\", \"valueTowardsCompletion\": 0.0, \"failureMessage\": \"\", \"exceptionClass\": \"\", \"trace\": \"\", \"outcomeType\": 4}}, \"*\")"
      ],
      "text/plain": [
       "<IPython.core.display.Javascript object>"
      ]
     },
     "metadata": {},
     "output_type": "display_data"
    },
    {
     "data": {
      "text/markdown": [
       "<span style=\"color:#33cc99\">Solution:</span> We'll begin with the regression line for chocolate candies. Since this line has a slightly positive slope, we can say that more expensive chocolate candies tend to be more popular (than relatively cheaper chocolate candies).  Likewise, since the regression line for candies without chocolate has a negative slope, we can say that if candies don't contain chocolate, they tend to be more popular when they are cheaper.  One important note, however, is that the dataset is quite small -- so we shouldn't invest too much trust in these patterns!  To inspire more confidence in the results, we should add more candies to the dataset."
      ],
      "text/plain": [
       "Solution: We'll begin with the regression line for chocolate candies. Since this line has a slightly positive slope, we can say that more expensive chocolate candies tend to be more popular (than relatively cheaper chocolate candies).  Likewise, since the regression line for candies without chocolate has a negative slope, we can say that if candies don't contain chocolate, they tend to be more popular when they are cheaper.  One important note, however, is that the dataset is quite small -- so we shouldn't invest too much trust in these patterns!  To inspire more confidence in the results, we should add more candies to the dataset."
      ]
     },
     "metadata": {},
     "output_type": "display_data"
    }
   ],
   "source": [
    "# Check your answer (Run this code cell to receive credit!)\n",
    "step_6.b.solution()"
   ]
  },
  {
   "cell_type": "markdown",
   "id": "5a729180",
   "metadata": {
    "papermill": {
     "duration": 0.014034,
     "end_time": "2022-07-07T16:30:49.493143",
     "exception": false,
     "start_time": "2022-07-07T16:30:49.479109",
     "status": "completed"
    },
    "tags": []
   },
   "source": [
    "## Step 7: Everybody loves chocolate.\n",
    "\n",
    "#### Part A\n",
    "\n",
    "Create a categorical scatter plot to highlight the relationship between `'chocolate'` and `'winpercent'`.  Put `'chocolate'` on the (horizontal) x-axis, and `'winpercent'` on the (vertical) y-axis."
   ]
  },
  {
   "cell_type": "code",
   "execution_count": 22,
   "id": "182c24f8",
   "metadata": {
    "execution": {
     "iopub.execute_input": "2022-07-07T16:30:49.524384Z",
     "iopub.status.busy": "2022-07-07T16:30:49.523598Z",
     "iopub.status.idle": "2022-07-07T16:30:49.666610Z",
     "shell.execute_reply": "2022-07-07T16:30:49.665407Z"
    },
    "papermill": {
     "duration": 0.161558,
     "end_time": "2022-07-07T16:30:49.669189",
     "exception": false,
     "start_time": "2022-07-07T16:30:49.507631",
     "status": "completed"
    },
    "tags": []
   },
   "outputs": [
    {
     "data": {
      "application/javascript": [
       "parent.postMessage({\"jupyterEvent\": \"custom.exercise_interaction\", \"data\": {\"outcomeType\": 1, \"valueTowardsCompletion\": 0.3333333333333333, \"interactionType\": 1, \"questionType\": 2, \"questionId\": \"7.1_PlotSwarm\", \"learnToolsVersion\": \"0.3.4\", \"failureMessage\": \"\", \"exceptionClass\": \"\", \"trace\": \"\"}}, \"*\")"
      ],
      "text/plain": [
       "<IPython.core.display.Javascript object>"
      ]
     },
     "metadata": {},
     "output_type": "display_data"
    },
    {
     "data": {
      "text/markdown": [
       "<span style=\"color:#33cc33\">Correct</span>"
      ],
      "text/plain": [
       "Correct"
      ]
     },
     "metadata": {},
     "output_type": "display_data"
    },
    {
     "data": {
      "image/png": "[encoded data removed]",
      "text/plain": [
       "<Figure size 432x288 with 1 Axes>"
      ]
     },
     "metadata": {
      "needs_background": "light"
     },
     "output_type": "display_data"
    }
   ],
   "source": [
    "# Scatter plot showing the relationship between 'chocolate' and 'winpercent'\n",
    "sns.swarmplot(x=candy_data['chocolate'],\n",
    "              y=candy_data['winpercent']) # Your code here\n",
    "\n",
    "# Check your answer\n",
    "step_7.a.check()"
   ]
  },
  {
   "cell_type": "code",
   "execution_count": 23,
   "id": "d3a9db62",
   "metadata": {
    "execution": {
     "iopub.execute_input": "2022-07-07T16:30:49.702205Z",
     "iopub.status.busy": "2022-07-07T16:30:49.701396Z",
     "iopub.status.idle": "2022-07-07T16:30:49.706391Z",
     "shell.execute_reply": "2022-07-07T16:30:49.705516Z"
    },
    "papermill": {
     "duration": 0.02445,
     "end_time": "2022-07-07T16:30:49.708848",
     "exception": false,
     "start_time": "2022-07-07T16:30:49.684398",
     "status": "completed"
    },
    "tags": []
   },
   "outputs": [],
   "source": [
    "# Lines below will give you a hint or solution code\n",
    "#step_7.a.hint()\n",
    "#step_7.a.solution_plot()"
   ]
  },
  {
   "cell_type": "markdown",
   "id": "f53e0864",
   "metadata": {
    "papermill": {
     "duration": 0.014775,
     "end_time": "2022-07-07T16:30:49.739086",
     "exception": false,
     "start_time": "2022-07-07T16:30:49.724311",
     "status": "completed"
    },
    "tags": []
   },
   "source": [
    "#### Part B\n",
    "\n",
    "You decide to dedicate a section of your report to the fact that chocolate candies tend to be more popular than candies without chocolate.  Which plot is more appropriate to tell this story: the plot from **Step 6**, or the plot from **Step 7**?"
   ]
  },
  {
   "cell_type": "code",
   "execution_count": 24,
   "id": "53b9fd53",
   "metadata": {
    "execution": {
     "iopub.execute_input": "2022-07-07T16:30:49.772989Z",
     "iopub.status.busy": "2022-07-07T16:30:49.772128Z",
     "iopub.status.idle": "2022-07-07T16:30:49.777301Z",
     "shell.execute_reply": "2022-07-07T16:30:49.776349Z"
    },
    "papermill": {
     "duration": 0.024817,
     "end_time": "2022-07-07T16:30:49.779738",
     "exception": false,
     "start_time": "2022-07-07T16:30:49.754921",
     "status": "completed"
    },
    "tags": []
   },
   "outputs": [],
   "source": [
    "#step_7.b.hint()"
   ]
  },
  {
   "cell_type": "code",
   "execution_count": 25,
   "id": "5b1c6491",
   "metadata": {
    "execution": {
     "iopub.execute_input": "2022-07-07T16:30:49.813723Z",
     "iopub.status.busy": "2022-07-07T16:30:49.812715Z",
     "iopub.status.idle": "2022-07-07T16:30:49.823333Z",
     "shell.execute_reply": "2022-07-07T16:30:49.822351Z"
    },
    "papermill": {
     "duration": 0.030817,
     "end_time": "2022-07-07T16:30:49.825736",
     "exception": false,
     "start_time": "2022-07-07T16:30:49.794919",
     "status": "completed"
    },
    "tags": []
   },
   "outputs": [
    {
     "data": {
      "application/javascript": [
       "parent.postMessage({\"jupyterEvent\": \"custom.exercise_interaction\", \"data\": {\"interactionType\": 3, \"questionType\": 4, \"questionId\": \"7.2_ThinkSwarm\", \"learnToolsVersion\": \"0.3.4\", \"valueTowardsCompletion\": 0.0, \"failureMessage\": \"\", \"exceptionClass\": \"\", \"trace\": \"\", \"outcomeType\": 4}}, \"*\")"
      ],
      "text/plain": [
       "<IPython.core.display.Javascript object>"
      ]
     },
     "metadata": {},
     "output_type": "display_data"
    },
    {
     "data": {
      "text/markdown": [
       "<span style=\"color:#33cc99\">Solution:</span> In this case, the categorical scatter plot from **Step 7** is the more appropriate plot. While both plots tell the desired story, the plot from **Step 6** conveys far more information that could distract from the main point."
      ],
      "text/plain": [
       "Solution: In this case, the categorical scatter plot from **Step 7** is the more appropriate plot. While both plots tell the desired story, the plot from **Step 6** conveys far more information that could distract from the main point."
      ]
     },
     "metadata": {},
     "output_type": "display_data"
    }
   ],
   "source": [
    "# Check your answer (Run this code cell to receive credit!)\n",
    "step_7.b.solution()"
   ]
  },
  {
   "cell_type": "markdown",
   "id": "2aa3bcc2",
   "metadata": {
    "papermill": {
     "duration": 0.015231,
     "end_time": "2022-07-07T16:30:49.856776",
     "exception": false,
     "start_time": "2022-07-07T16:30:49.841545",
     "status": "completed"
    },
    "tags": []
   },
   "source": [
    "## Keep going\n",
    "\n",
    "Explore **[histograms and density plots](https://www.kaggle.com/alexisbcook/distributions)**."
   ]
  },
  {
   "cell_type": "markdown",
   "id": "bc166a24",
   "metadata": {
    "papermill": {
     "duration": 0.015996,
     "end_time": "2022-07-07T16:30:49.888400",
     "exception": false,
     "start_time": "2022-07-07T16:30:49.872404",
     "status": "completed"
    },
    "tags": []
   },
   "source": [
    "---\n",
    "\n",
    "\n",
    "\n",
    "\n",
    "*Have questions or comments? Visit the [course discussion forum](https://www.kaggle.com/learn/data-visualization/discussion) to chat with other learners.*"
   ]
  }
 ],
 "metadata": {
  "kernelspec": {
   "display_name": "Python 3",
   "language": "python",
   "name": "python3"
  },
  "language_info": {
   "codemirror_mode": {
    "name": "ipython",
    "version": 3
   },
   "file_extension": ".py",
   "mimetype": "text/x-python",
   "name": "python",
   "nbconvert_exporter": "python",
   "pygments_lexer": "ipython3",
   "version": "3.7.12"
  },
  "papermill": {
   "default_parameters": {},
   "duration": 15.978953,
   "end_time": "2022-07-07T16:30:50.625146",
   "environment_variables": {},
   "exception": null,
   "input_path": "__notebook__.ipynb",
   "output_path": "__notebook__.ipynb",
   "parameters": {},
   "start_time": "2022-07-07T16:30:34.646193",
   "version": "2.3.4"
  }
 },
 "nbformat": 4,
 "nbformat_minor": 5
}
